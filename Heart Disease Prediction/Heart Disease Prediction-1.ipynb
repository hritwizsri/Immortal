{
 "cells": [
  {
   "cell_type": "code",
   "execution_count": 63,
   "metadata": {},
   "outputs": [],
   "source": [
    "import pandas as pd\n",
    "import numpy as np\n",
    "\n",
    "import matplotlib.pyplot as plt\n",
    "import seaborn as sns \n",
    "sns.set_style('darkgrid')\n",
    "# preprocessing\n",
    "from sklearn.preprocessing import StandardScaler,RobustScaler,MinMaxScaler\n",
    "\n",
    "from sklearn.model_selection import train_test_split\n",
    "#testing\n",
    "from sklearn.neural_network import MLPClassifier \n",
    "from sklearn.svm import SVC\n",
    "from sklearn.linear_model import LogisticRegression\n",
    "import warnings\n",
    "warnings.filterwarnings(action='ignore')\n",
    "\n"
   ]
  },
  {
   "cell_type": "code",
   "execution_count": 64,
   "metadata": {},
   "outputs": [],
   "source": [
    "data = pd.read_csv('heart.csv')"
   ]
  },
  {
   "cell_type": "code",
   "execution_count": 65,
   "metadata": {},
   "outputs": [
    {
     "data": {
      "text/html": [
       "<div>\n",
       "<style scoped>\n",
       "    .dataframe tbody tr th:only-of-type {\n",
       "        vertical-align: middle;\n",
       "    }\n",
       "\n",
       "    .dataframe tbody tr th {\n",
       "        vertical-align: top;\n",
       "    }\n",
       "\n",
       "    .dataframe thead th {\n",
       "        text-align: right;\n",
       "    }\n",
       "</style>\n",
       "<table border=\"1\" class=\"dataframe\">\n",
       "  <thead>\n",
       "    <tr style=\"text-align: right;\">\n",
       "      <th></th>\n",
       "      <th>age</th>\n",
       "      <th>sex</th>\n",
       "      <th>cp</th>\n",
       "      <th>trestbps</th>\n",
       "      <th>chol</th>\n",
       "      <th>fbs</th>\n",
       "      <th>restecg</th>\n",
       "      <th>thalach</th>\n",
       "      <th>exang</th>\n",
       "      <th>oldpeak</th>\n",
       "      <th>slope</th>\n",
       "      <th>ca</th>\n",
       "      <th>thal</th>\n",
       "      <th>target</th>\n",
       "    </tr>\n",
       "  </thead>\n",
       "  <tbody>\n",
       "    <tr>\n",
       "      <th>0</th>\n",
       "      <td>63</td>\n",
       "      <td>1</td>\n",
       "      <td>3</td>\n",
       "      <td>145</td>\n",
       "      <td>233</td>\n",
       "      <td>1</td>\n",
       "      <td>0</td>\n",
       "      <td>150</td>\n",
       "      <td>0</td>\n",
       "      <td>2.3</td>\n",
       "      <td>0</td>\n",
       "      <td>0</td>\n",
       "      <td>1</td>\n",
       "      <td>1</td>\n",
       "    </tr>\n",
       "    <tr>\n",
       "      <th>1</th>\n",
       "      <td>37</td>\n",
       "      <td>1</td>\n",
       "      <td>2</td>\n",
       "      <td>130</td>\n",
       "      <td>250</td>\n",
       "      <td>0</td>\n",
       "      <td>1</td>\n",
       "      <td>187</td>\n",
       "      <td>0</td>\n",
       "      <td>3.5</td>\n",
       "      <td>0</td>\n",
       "      <td>0</td>\n",
       "      <td>2</td>\n",
       "      <td>1</td>\n",
       "    </tr>\n",
       "    <tr>\n",
       "      <th>2</th>\n",
       "      <td>41</td>\n",
       "      <td>0</td>\n",
       "      <td>1</td>\n",
       "      <td>130</td>\n",
       "      <td>204</td>\n",
       "      <td>0</td>\n",
       "      <td>0</td>\n",
       "      <td>172</td>\n",
       "      <td>0</td>\n",
       "      <td>1.4</td>\n",
       "      <td>2</td>\n",
       "      <td>0</td>\n",
       "      <td>2</td>\n",
       "      <td>1</td>\n",
       "    </tr>\n",
       "    <tr>\n",
       "      <th>3</th>\n",
       "      <td>56</td>\n",
       "      <td>1</td>\n",
       "      <td>1</td>\n",
       "      <td>120</td>\n",
       "      <td>236</td>\n",
       "      <td>0</td>\n",
       "      <td>1</td>\n",
       "      <td>178</td>\n",
       "      <td>0</td>\n",
       "      <td>0.8</td>\n",
       "      <td>2</td>\n",
       "      <td>0</td>\n",
       "      <td>2</td>\n",
       "      <td>1</td>\n",
       "    </tr>\n",
       "    <tr>\n",
       "      <th>4</th>\n",
       "      <td>57</td>\n",
       "      <td>0</td>\n",
       "      <td>0</td>\n",
       "      <td>120</td>\n",
       "      <td>354</td>\n",
       "      <td>0</td>\n",
       "      <td>1</td>\n",
       "      <td>163</td>\n",
       "      <td>1</td>\n",
       "      <td>0.6</td>\n",
       "      <td>2</td>\n",
       "      <td>0</td>\n",
       "      <td>2</td>\n",
       "      <td>1</td>\n",
       "    </tr>\n",
       "    <tr>\n",
       "      <th>...</th>\n",
       "      <td>...</td>\n",
       "      <td>...</td>\n",
       "      <td>...</td>\n",
       "      <td>...</td>\n",
       "      <td>...</td>\n",
       "      <td>...</td>\n",
       "      <td>...</td>\n",
       "      <td>...</td>\n",
       "      <td>...</td>\n",
       "      <td>...</td>\n",
       "      <td>...</td>\n",
       "      <td>...</td>\n",
       "      <td>...</td>\n",
       "      <td>...</td>\n",
       "    </tr>\n",
       "    <tr>\n",
       "      <th>298</th>\n",
       "      <td>57</td>\n",
       "      <td>0</td>\n",
       "      <td>0</td>\n",
       "      <td>140</td>\n",
       "      <td>241</td>\n",
       "      <td>0</td>\n",
       "      <td>1</td>\n",
       "      <td>123</td>\n",
       "      <td>1</td>\n",
       "      <td>0.2</td>\n",
       "      <td>1</td>\n",
       "      <td>0</td>\n",
       "      <td>3</td>\n",
       "      <td>0</td>\n",
       "    </tr>\n",
       "    <tr>\n",
       "      <th>299</th>\n",
       "      <td>45</td>\n",
       "      <td>1</td>\n",
       "      <td>3</td>\n",
       "      <td>110</td>\n",
       "      <td>264</td>\n",
       "      <td>0</td>\n",
       "      <td>1</td>\n",
       "      <td>132</td>\n",
       "      <td>0</td>\n",
       "      <td>1.2</td>\n",
       "      <td>1</td>\n",
       "      <td>0</td>\n",
       "      <td>3</td>\n",
       "      <td>0</td>\n",
       "    </tr>\n",
       "    <tr>\n",
       "      <th>300</th>\n",
       "      <td>68</td>\n",
       "      <td>1</td>\n",
       "      <td>0</td>\n",
       "      <td>144</td>\n",
       "      <td>193</td>\n",
       "      <td>1</td>\n",
       "      <td>1</td>\n",
       "      <td>141</td>\n",
       "      <td>0</td>\n",
       "      <td>3.4</td>\n",
       "      <td>1</td>\n",
       "      <td>2</td>\n",
       "      <td>3</td>\n",
       "      <td>0</td>\n",
       "    </tr>\n",
       "    <tr>\n",
       "      <th>301</th>\n",
       "      <td>57</td>\n",
       "      <td>1</td>\n",
       "      <td>0</td>\n",
       "      <td>130</td>\n",
       "      <td>131</td>\n",
       "      <td>0</td>\n",
       "      <td>1</td>\n",
       "      <td>115</td>\n",
       "      <td>1</td>\n",
       "      <td>1.2</td>\n",
       "      <td>1</td>\n",
       "      <td>1</td>\n",
       "      <td>3</td>\n",
       "      <td>0</td>\n",
       "    </tr>\n",
       "    <tr>\n",
       "      <th>302</th>\n",
       "      <td>57</td>\n",
       "      <td>0</td>\n",
       "      <td>1</td>\n",
       "      <td>130</td>\n",
       "      <td>236</td>\n",
       "      <td>0</td>\n",
       "      <td>0</td>\n",
       "      <td>174</td>\n",
       "      <td>0</td>\n",
       "      <td>0.0</td>\n",
       "      <td>1</td>\n",
       "      <td>1</td>\n",
       "      <td>2</td>\n",
       "      <td>0</td>\n",
       "    </tr>\n",
       "  </tbody>\n",
       "</table>\n",
       "<p>303 rows × 14 columns</p>\n",
       "</div>"
      ],
      "text/plain": [
       "     age  sex  cp  trestbps  chol  fbs  restecg  thalach  exang  oldpeak  \\\n",
       "0     63    1   3       145   233    1        0      150      0      2.3   \n",
       "1     37    1   2       130   250    0        1      187      0      3.5   \n",
       "2     41    0   1       130   204    0        0      172      0      1.4   \n",
       "3     56    1   1       120   236    0        1      178      0      0.8   \n",
       "4     57    0   0       120   354    0        1      163      1      0.6   \n",
       "..   ...  ...  ..       ...   ...  ...      ...      ...    ...      ...   \n",
       "298   57    0   0       140   241    0        1      123      1      0.2   \n",
       "299   45    1   3       110   264    0        1      132      0      1.2   \n",
       "300   68    1   0       144   193    1        1      141      0      3.4   \n",
       "301   57    1   0       130   131    0        1      115      1      1.2   \n",
       "302   57    0   1       130   236    0        0      174      0      0.0   \n",
       "\n",
       "     slope  ca  thal  target  \n",
       "0        0   0     1       1  \n",
       "1        0   0     2       1  \n",
       "2        2   0     2       1  \n",
       "3        2   0     2       1  \n",
       "4        2   0     2       1  \n",
       "..     ...  ..   ...     ...  \n",
       "298      1   0     3       0  \n",
       "299      1   0     3       0  \n",
       "300      1   2     3       0  \n",
       "301      1   1     3       0  \n",
       "302      1   1     2       0  \n",
       "\n",
       "[303 rows x 14 columns]"
      ]
     },
     "execution_count": 65,
     "metadata": {},
     "output_type": "execute_result"
    }
   ],
   "source": [
    "data"
   ]
  },
  {
   "cell_type": "code",
   "execution_count": 66,
   "metadata": {
    "scrolled": true
   },
   "outputs": [
    {
     "name": "stdout",
     "output_type": "stream",
     "text": [
      "<class 'pandas.core.frame.DataFrame'>\n",
      "RangeIndex: 303 entries, 0 to 302\n",
      "Data columns (total 14 columns):\n",
      " #   Column    Non-Null Count  Dtype  \n",
      "---  ------    --------------  -----  \n",
      " 0   age       303 non-null    int64  \n",
      " 1   sex       303 non-null    int64  \n",
      " 2   cp        303 non-null    int64  \n",
      " 3   trestbps  303 non-null    int64  \n",
      " 4   chol      303 non-null    int64  \n",
      " 5   fbs       303 non-null    int64  \n",
      " 6   restecg   303 non-null    int64  \n",
      " 7   thalach   303 non-null    int64  \n",
      " 8   exang     303 non-null    int64  \n",
      " 9   oldpeak   303 non-null    float64\n",
      " 10  slope     303 non-null    int64  \n",
      " 11  ca        303 non-null    int64  \n",
      " 12  thal      303 non-null    int64  \n",
      " 13  target    303 non-null    int64  \n",
      "dtypes: float64(1), int64(13)\n",
      "memory usage: 33.3 KB\n"
     ]
    }
   ],
   "source": [
    "data.info()"
   ]
  },
  {
   "cell_type": "markdown",
   "metadata": {},
   "source": [
    "# EDA"
   ]
  },
  {
   "cell_type": "code",
   "execution_count": 67,
   "metadata": {},
   "outputs": [],
   "source": [
    "numeric_feature=['age', 'sex', 'trestbps', 'chol', 'thalach', 'oldpeak', 'slope', 'ca']\n",
    "eda_df=data.loc[:,numeric_feature].copy()"
   ]
  },
  {
   "cell_type": "code",
   "execution_count": 68,
   "metadata": {},
   "outputs": [
    {
     "data": {
      "image/png": "[encoded data removed]",
      "text/plain": [
       "<Figure size 1152x720 with 1 Axes>"
      ]
     },
     "metadata": {},
     "output_type": "display_data"
    },
    {
     "data": {
      "image/png": "[encoded data removed]",
      "text/plain": [
       "<Figure size 432x288 with 1 Axes>"
      ]
     },
     "metadata": {},
     "output_type": "display_data"
    },
    {
     "data": {
      "image/png": "[encoded data removed]",
      "text/plain": [
       "<Figure size 432x288 with 1 Axes>"
      ]
     },
     "metadata": {},
     "output_type": "display_data"
    },
    {
     "data": {
      "image/png": "[encoded data removed]",
      "text/plain": [
       "<Figure size 432x288 with 1 Axes>"
      ]
     },
     "metadata": {},
     "output_type": "display_data"
    },
    {
     "data": {
      "image/png": "[encoded data removed]",
      "text/plain": [
       "<Figure size 432x288 with 1 Axes>"
      ]
     },
     "metadata": {},
     "output_type": "display_data"
    },
    {
     "data": {
      "image/png": "[encoded data removed]",
      "text/plain": [
       "<Figure size 432x288 with 1 Axes>"
      ]
     },
     "metadata": {},
     "output_type": "display_data"
    },
    {
     "data": {
      "image/png": "[encoded data removed]",
      "text/plain": [
       "<Figure size 432x288 with 1 Axes>"
      ]
     },
     "metadata": {},
     "output_type": "display_data"
    },
    {
     "data": {
      "image/png": "[encoded data removed]",
      "text/plain": [
       "<Figure size 432x288 with 1 Axes>"
      ]
     },
     "metadata": {},
     "output_type": "display_data"
    }
   ],
   "source": [
    "plt.figure(figsize=(16,10))\n",
    "for i in range (len(eda_df.columns)):\n",
    "    plt.subplot(2,4, i+1)#subplot indexing start from 1 and 2,4 are size of grid\n",
    "    sns.boxplot(eda_df[eda_df.columns[i]])\n",
    "    plt.show()"
   ]
  },
  {
   "cell_type": "code",
   "execution_count": 71,
   "metadata": {},
   "outputs": [
    {
     "data": {
      "image/png": "[encoded data removed]",
      "text/plain": [
       "<Figure size 864x720 with 2 Axes>"
      ]
     },
     "metadata": {},
     "output_type": "display_data"
    }
   ],
   "source": [
    "\n",
    "corr_df=eda_df.corr()\n",
    "plt.figure(figsize=(12,10))\n",
    "sns.heatmap(corr_df,annot=True,vmin=-1.0 )\n",
    "plt.title(\"Correlation Heatmap\")\n",
    "plt.show()"
   ]
  },
  {
   "cell_type": "markdown",
   "metadata": {},
   "source": [
    "### we can also visualize the class distribution with pie chart"
   ]
  },
  {
   "cell_type": "code",
   "execution_count": 79,
   "metadata": {},
   "outputs": [
    {
     "data": {
      "image/png": "[encoded data removed]",
      "text/plain": [
       "<Figure size 576x576 with 1 Axes>"
      ]
     },
     "metadata": {},
     "output_type": "display_data"
    }
   ],
   "source": [
    "plt.figure(figsize=(8,8))\n",
    "plt.pie(data['target'].value_counts(),labels=[\"Heart Disease\",\"No Heart Disease\"],autopct='%.1f')\n",
    "\n",
    "#  colors=['#36a2ac', '#413f80'])\n",
    "plt.title(\"Class Distribution\")\n",
    "plt.show()"
   ]
  },
  {
   "cell_type": "markdown",
   "metadata": {},
   "source": [
    "# preprocessing"
   ]
  },
  {
   "cell_type": "code",
   "execution_count": 107,
   "metadata": {},
   "outputs": [],
   "source": [
    "# {column: len(x[column].unique())\n",
    "#  for column in x.columns}"
   ]
  },
  {
   "cell_type": "code",
   "execution_count": 98,
   "metadata": {},
   "outputs": [],
   "source": [
    "def onehot_encode(df,column_dict):\n",
    "    df=df.copy()\n",
    "    for column,prefix in column_dict.items():\n",
    "        dummies=pd.get_dummies(df[column],prefix=prefix)\n",
    "        df=pd.concat([df,dummies],axis=1)\n",
    "        df=df.drop(column,axis=1)\n",
    "    return df    \n",
    "        \n",
    "    "
   ]
  },
  {
   "cell_type": "code",
   "execution_count": 99,
   "metadata": {},
   "outputs": [
    {
     "data": {
      "text/plain": [
       "{'thal': 'TH', 'cp': 'CP', 'slope': 'SL'}"
      ]
     },
     "execution_count": 99,
     "metadata": {},
     "output_type": "execute_result"
    }
   ],
   "source": [
    "nominal_feature=['thal','cp','slope']\n",
    "dict(zip(nominal_feature,['TH','CP','SL']))"
   ]
  },
  {
   "cell_type": "code",
   "execution_count": 102,
   "metadata": {},
   "outputs": [],
   "source": [
    "def preprocessing_inputs(df,scaler):\n",
    "    df=df.copy()\n",
    "    #one hot encode\n",
    "    df= onehot_encode(df,dict(zip(nominal_feature,['TH','CP','SL'])))\n",
    "    \n",
    "    y=df['target'].copy()\n",
    "    x=df.drop('target',axis=1).copy()\n",
    "    \n",
    "    x=pd.DataFrame(scaler.fit_transform(x),columns=x.columns)#transform return in array so we use pd.dataframe\n",
    "    return x,y"
   ]
  },
  {
   "cell_type": "code",
   "execution_count": 105,
   "metadata": {},
   "outputs": [],
   "source": [
    "x,y=preprocessing_inputs(data, StandardScaler())"
   ]
  },
  {
   "cell_type": "code",
   "execution_count": null,
   "metadata": {},
   "outputs": [],
   "source": []
  },
  {
   "cell_type": "code",
   "execution_count": 106,
   "metadata": {},
   "outputs": [
    {
     "data": {
      "text/html": [
       "<div>\n",
       "<style scoped>\n",
       "    .dataframe tbody tr th:only-of-type {\n",
       "        vertical-align: middle;\n",
       "    }\n",
       "\n",
       "    .dataframe tbody tr th {\n",
       "        vertical-align: top;\n",
       "    }\n",
       "\n",
       "    .dataframe thead th {\n",
       "        text-align: right;\n",
       "    }\n",
       "</style>\n",
       "<table border=\"1\" class=\"dataframe\">\n",
       "  <thead>\n",
       "    <tr style=\"text-align: right;\">\n",
       "      <th></th>\n",
       "      <th>age</th>\n",
       "      <th>sex</th>\n",
       "      <th>trestbps</th>\n",
       "      <th>chol</th>\n",
       "      <th>fbs</th>\n",
       "      <th>restecg</th>\n",
       "      <th>thalach</th>\n",
       "      <th>exang</th>\n",
       "      <th>oldpeak</th>\n",
       "      <th>ca</th>\n",
       "      <th>...</th>\n",
       "      <th>TH_1</th>\n",
       "      <th>TH_2</th>\n",
       "      <th>TH_3</th>\n",
       "      <th>CP_0</th>\n",
       "      <th>CP_1</th>\n",
       "      <th>CP_2</th>\n",
       "      <th>CP_3</th>\n",
       "      <th>SL_0</th>\n",
       "      <th>SL_1</th>\n",
       "      <th>SL_2</th>\n",
       "    </tr>\n",
       "  </thead>\n",
       "  <tbody>\n",
       "    <tr>\n",
       "      <th>0</th>\n",
       "      <td>0.952197</td>\n",
       "      <td>0.681005</td>\n",
       "      <td>0.763956</td>\n",
       "      <td>-0.256334</td>\n",
       "      <td>2.394438</td>\n",
       "      <td>-1.005832</td>\n",
       "      <td>0.015443</td>\n",
       "      <td>-0.696631</td>\n",
       "      <td>1.087338</td>\n",
       "      <td>-0.714429</td>\n",
       "      <td>...</td>\n",
       "      <td>3.979112</td>\n",
       "      <td>-1.100763</td>\n",
       "      <td>-0.793116</td>\n",
       "      <td>-0.945384</td>\n",
       "      <td>-0.444554</td>\n",
       "      <td>-0.634648</td>\n",
       "      <td>3.489114</td>\n",
       "      <td>3.664502</td>\n",
       "      <td>-0.926766</td>\n",
       "      <td>-0.939142</td>\n",
       "    </tr>\n",
       "    <tr>\n",
       "      <th>1</th>\n",
       "      <td>-1.915313</td>\n",
       "      <td>0.681005</td>\n",
       "      <td>-0.092738</td>\n",
       "      <td>0.072199</td>\n",
       "      <td>-0.417635</td>\n",
       "      <td>0.898962</td>\n",
       "      <td>1.633471</td>\n",
       "      <td>-0.696631</td>\n",
       "      <td>2.122573</td>\n",
       "      <td>-0.714429</td>\n",
       "      <td>...</td>\n",
       "      <td>-0.251312</td>\n",
       "      <td>0.908461</td>\n",
       "      <td>-0.793116</td>\n",
       "      <td>-0.945384</td>\n",
       "      <td>-0.444554</td>\n",
       "      <td>1.575677</td>\n",
       "      <td>-0.286606</td>\n",
       "      <td>3.664502</td>\n",
       "      <td>-0.926766</td>\n",
       "      <td>-0.939142</td>\n",
       "    </tr>\n",
       "    <tr>\n",
       "      <th>2</th>\n",
       "      <td>-1.474158</td>\n",
       "      <td>-1.468418</td>\n",
       "      <td>-0.092738</td>\n",
       "      <td>-0.816773</td>\n",
       "      <td>-0.417635</td>\n",
       "      <td>-1.005832</td>\n",
       "      <td>0.977514</td>\n",
       "      <td>-0.696631</td>\n",
       "      <td>0.310912</td>\n",
       "      <td>-0.714429</td>\n",
       "      <td>...</td>\n",
       "      <td>-0.251312</td>\n",
       "      <td>0.908461</td>\n",
       "      <td>-0.793116</td>\n",
       "      <td>-0.945384</td>\n",
       "      <td>2.249444</td>\n",
       "      <td>-0.634648</td>\n",
       "      <td>-0.286606</td>\n",
       "      <td>-0.272888</td>\n",
       "      <td>-0.926766</td>\n",
       "      <td>1.064802</td>\n",
       "    </tr>\n",
       "    <tr>\n",
       "      <th>3</th>\n",
       "      <td>0.180175</td>\n",
       "      <td>0.681005</td>\n",
       "      <td>-0.663867</td>\n",
       "      <td>-0.198357</td>\n",
       "      <td>-0.417635</td>\n",
       "      <td>0.898962</td>\n",
       "      <td>1.239897</td>\n",
       "      <td>-0.696631</td>\n",
       "      <td>-0.206705</td>\n",
       "      <td>-0.714429</td>\n",
       "      <td>...</td>\n",
       "      <td>-0.251312</td>\n",
       "      <td>0.908461</td>\n",
       "      <td>-0.793116</td>\n",
       "      <td>-0.945384</td>\n",
       "      <td>2.249444</td>\n",
       "      <td>-0.634648</td>\n",
       "      <td>-0.286606</td>\n",
       "      <td>-0.272888</td>\n",
       "      <td>-0.926766</td>\n",
       "      <td>1.064802</td>\n",
       "    </tr>\n",
       "    <tr>\n",
       "      <th>4</th>\n",
       "      <td>0.290464</td>\n",
       "      <td>-1.468418</td>\n",
       "      <td>-0.663867</td>\n",
       "      <td>2.082050</td>\n",
       "      <td>-0.417635</td>\n",
       "      <td>0.898962</td>\n",
       "      <td>0.583939</td>\n",
       "      <td>1.435481</td>\n",
       "      <td>-0.379244</td>\n",
       "      <td>-0.714429</td>\n",
       "      <td>...</td>\n",
       "      <td>-0.251312</td>\n",
       "      <td>0.908461</td>\n",
       "      <td>-0.793116</td>\n",
       "      <td>1.057772</td>\n",
       "      <td>-0.444554</td>\n",
       "      <td>-0.634648</td>\n",
       "      <td>-0.286606</td>\n",
       "      <td>-0.272888</td>\n",
       "      <td>-0.926766</td>\n",
       "      <td>1.064802</td>\n",
       "    </tr>\n",
       "    <tr>\n",
       "      <th>...</th>\n",
       "      <td>...</td>\n",
       "      <td>...</td>\n",
       "      <td>...</td>\n",
       "      <td>...</td>\n",
       "      <td>...</td>\n",
       "      <td>...</td>\n",
       "      <td>...</td>\n",
       "      <td>...</td>\n",
       "      <td>...</td>\n",
       "      <td>...</td>\n",
       "      <td>...</td>\n",
       "      <td>...</td>\n",
       "      <td>...</td>\n",
       "      <td>...</td>\n",
       "      <td>...</td>\n",
       "      <td>...</td>\n",
       "      <td>...</td>\n",
       "      <td>...</td>\n",
       "      <td>...</td>\n",
       "      <td>...</td>\n",
       "      <td>...</td>\n",
       "    </tr>\n",
       "    <tr>\n",
       "      <th>298</th>\n",
       "      <td>0.290464</td>\n",
       "      <td>-1.468418</td>\n",
       "      <td>0.478391</td>\n",
       "      <td>-0.101730</td>\n",
       "      <td>-0.417635</td>\n",
       "      <td>0.898962</td>\n",
       "      <td>-1.165281</td>\n",
       "      <td>1.435481</td>\n",
       "      <td>-0.724323</td>\n",
       "      <td>-0.714429</td>\n",
       "      <td>...</td>\n",
       "      <td>-0.251312</td>\n",
       "      <td>-1.100763</td>\n",
       "      <td>1.260850</td>\n",
       "      <td>1.057772</td>\n",
       "      <td>-0.444554</td>\n",
       "      <td>-0.634648</td>\n",
       "      <td>-0.286606</td>\n",
       "      <td>-0.272888</td>\n",
       "      <td>1.079021</td>\n",
       "      <td>-0.939142</td>\n",
       "    </tr>\n",
       "    <tr>\n",
       "      <th>299</th>\n",
       "      <td>-1.033002</td>\n",
       "      <td>0.681005</td>\n",
       "      <td>-1.234996</td>\n",
       "      <td>0.342756</td>\n",
       "      <td>-0.417635</td>\n",
       "      <td>0.898962</td>\n",
       "      <td>-0.771706</td>\n",
       "      <td>-0.696631</td>\n",
       "      <td>0.138373</td>\n",
       "      <td>-0.714429</td>\n",
       "      <td>...</td>\n",
       "      <td>-0.251312</td>\n",
       "      <td>-1.100763</td>\n",
       "      <td>1.260850</td>\n",
       "      <td>-0.945384</td>\n",
       "      <td>-0.444554</td>\n",
       "      <td>-0.634648</td>\n",
       "      <td>3.489114</td>\n",
       "      <td>-0.272888</td>\n",
       "      <td>1.079021</td>\n",
       "      <td>-0.939142</td>\n",
       "    </tr>\n",
       "    <tr>\n",
       "      <th>300</th>\n",
       "      <td>1.503641</td>\n",
       "      <td>0.681005</td>\n",
       "      <td>0.706843</td>\n",
       "      <td>-1.029353</td>\n",
       "      <td>2.394438</td>\n",
       "      <td>0.898962</td>\n",
       "      <td>-0.378132</td>\n",
       "      <td>-0.696631</td>\n",
       "      <td>2.036303</td>\n",
       "      <td>1.244593</td>\n",
       "      <td>...</td>\n",
       "      <td>-0.251312</td>\n",
       "      <td>-1.100763</td>\n",
       "      <td>1.260850</td>\n",
       "      <td>1.057772</td>\n",
       "      <td>-0.444554</td>\n",
       "      <td>-0.634648</td>\n",
       "      <td>-0.286606</td>\n",
       "      <td>-0.272888</td>\n",
       "      <td>1.079021</td>\n",
       "      <td>-0.939142</td>\n",
       "    </tr>\n",
       "    <tr>\n",
       "      <th>301</th>\n",
       "      <td>0.290464</td>\n",
       "      <td>0.681005</td>\n",
       "      <td>-0.092738</td>\n",
       "      <td>-2.227533</td>\n",
       "      <td>-0.417635</td>\n",
       "      <td>0.898962</td>\n",
       "      <td>-1.515125</td>\n",
       "      <td>1.435481</td>\n",
       "      <td>0.138373</td>\n",
       "      <td>0.265082</td>\n",
       "      <td>...</td>\n",
       "      <td>-0.251312</td>\n",
       "      <td>-1.100763</td>\n",
       "      <td>1.260850</td>\n",
       "      <td>1.057772</td>\n",
       "      <td>-0.444554</td>\n",
       "      <td>-0.634648</td>\n",
       "      <td>-0.286606</td>\n",
       "      <td>-0.272888</td>\n",
       "      <td>1.079021</td>\n",
       "      <td>-0.939142</td>\n",
       "    </tr>\n",
       "    <tr>\n",
       "      <th>302</th>\n",
       "      <td>0.290464</td>\n",
       "      <td>-1.468418</td>\n",
       "      <td>-0.092738</td>\n",
       "      <td>-0.198357</td>\n",
       "      <td>-0.417635</td>\n",
       "      <td>-1.005832</td>\n",
       "      <td>1.064975</td>\n",
       "      <td>-0.696631</td>\n",
       "      <td>-0.896862</td>\n",
       "      <td>0.265082</td>\n",
       "      <td>...</td>\n",
       "      <td>-0.251312</td>\n",
       "      <td>0.908461</td>\n",
       "      <td>-0.793116</td>\n",
       "      <td>-0.945384</td>\n",
       "      <td>2.249444</td>\n",
       "      <td>-0.634648</td>\n",
       "      <td>-0.286606</td>\n",
       "      <td>-0.272888</td>\n",
       "      <td>1.079021</td>\n",
       "      <td>-0.939142</td>\n",
       "    </tr>\n",
       "  </tbody>\n",
       "</table>\n",
       "<p>303 rows × 21 columns</p>\n",
       "</div>"
      ],
      "text/plain": [
       "          age       sex  trestbps      chol       fbs   restecg   thalach  \\\n",
       "0    0.952197  0.681005  0.763956 -0.256334  2.394438 -1.005832  0.015443   \n",
       "1   -1.915313  0.681005 -0.092738  0.072199 -0.417635  0.898962  1.633471   \n",
       "2   -1.474158 -1.468418 -0.092738 -0.816773 -0.417635 -1.005832  0.977514   \n",
       "3    0.180175  0.681005 -0.663867 -0.198357 -0.417635  0.898962  1.239897   \n",
       "4    0.290464 -1.468418 -0.663867  2.082050 -0.417635  0.898962  0.583939   \n",
       "..        ...       ...       ...       ...       ...       ...       ...   \n",
       "298  0.290464 -1.468418  0.478391 -0.101730 -0.417635  0.898962 -1.165281   \n",
       "299 -1.033002  0.681005 -1.234996  0.342756 -0.417635  0.898962 -0.771706   \n",
       "300  1.503641  0.681005  0.706843 -1.029353  2.394438  0.898962 -0.378132   \n",
       "301  0.290464  0.681005 -0.092738 -2.227533 -0.417635  0.898962 -1.515125   \n",
       "302  0.290464 -1.468418 -0.092738 -0.198357 -0.417635 -1.005832  1.064975   \n",
       "\n",
       "        exang   oldpeak        ca  ...      TH_1      TH_2      TH_3  \\\n",
       "0   -0.696631  1.087338 -0.714429  ...  3.979112 -1.100763 -0.793116   \n",
       "1   -0.696631  2.122573 -0.714429  ... -0.251312  0.908461 -0.793116   \n",
       "2   -0.696631  0.310912 -0.714429  ... -0.251312  0.908461 -0.793116   \n",
       "3   -0.696631 -0.206705 -0.714429  ... -0.251312  0.908461 -0.793116   \n",
       "4    1.435481 -0.379244 -0.714429  ... -0.251312  0.908461 -0.793116   \n",
       "..        ...       ...       ...  ...       ...       ...       ...   \n",
       "298  1.435481 -0.724323 -0.714429  ... -0.251312 -1.100763  1.260850   \n",
       "299 -0.696631  0.138373 -0.714429  ... -0.251312 -1.100763  1.260850   \n",
       "300 -0.696631  2.036303  1.244593  ... -0.251312 -1.100763  1.260850   \n",
       "301  1.435481  0.138373  0.265082  ... -0.251312 -1.100763  1.260850   \n",
       "302 -0.696631 -0.896862  0.265082  ... -0.251312  0.908461 -0.793116   \n",
       "\n",
       "         CP_0      CP_1      CP_2      CP_3      SL_0      SL_1      SL_2  \n",
       "0   -0.945384 -0.444554 -0.634648  3.489114  3.664502 -0.926766 -0.939142  \n",
       "1   -0.945384 -0.444554  1.575677 -0.286606  3.664502 -0.926766 -0.939142  \n",
       "2   -0.945384  2.249444 -0.634648 -0.286606 -0.272888 -0.926766  1.064802  \n",
       "3   -0.945384  2.249444 -0.634648 -0.286606 -0.272888 -0.926766  1.064802  \n",
       "4    1.057772 -0.444554 -0.634648 -0.286606 -0.272888 -0.926766  1.064802  \n",
       "..        ...       ...       ...       ...       ...       ...       ...  \n",
       "298  1.057772 -0.444554 -0.634648 -0.286606 -0.272888  1.079021 -0.939142  \n",
       "299 -0.945384 -0.444554 -0.634648  3.489114 -0.272888  1.079021 -0.939142  \n",
       "300  1.057772 -0.444554 -0.634648 -0.286606 -0.272888  1.079021 -0.939142  \n",
       "301  1.057772 -0.444554 -0.634648 -0.286606 -0.272888  1.079021 -0.939142  \n",
       "302 -0.945384  2.249444 -0.634648 -0.286606 -0.272888  1.079021 -0.939142  \n",
       "\n",
       "[303 rows x 21 columns]"
      ]
     },
     "execution_count": 106,
     "metadata": {},
     "output_type": "execute_result"
    }
   ],
   "source": [
    "x"
   ]
  },
  {
   "cell_type": "markdown",
   "metadata": {},
   "source": [
    "# Training"
   ]
  },
  {
   "cell_type": "code",
   "execution_count": 109,
   "metadata": {},
   "outputs": [],
   "source": [
    "x_train,x_test,y_train,y_test=train_test_split(x,y,train_size=0.8,random_state=0)"
   ]
  },
  {
   "cell_type": "code",
   "execution_count": 110,
   "metadata": {},
   "outputs": [
    {
     "name": "stdout",
     "output_type": "stream",
     "text": [
      "LogisticRegression: 85.25\n"
     ]
    }
   ],
   "source": [
    "lr_model=LogisticRegression()\n",
    "lr_model.fit(x_train,y_train)\n",
    "print(\"LogisticRegression: {:.2f}\".format(lr_model.score(x_test,y_test)*100))"
   ]
  },
  {
   "cell_type": "code",
   "execution_count": 111,
   "metadata": {},
   "outputs": [
    {
     "name": "stdout",
     "output_type": "stream",
     "text": [
      "Support Vector Machine : 86.89\n"
     ]
    }
   ],
   "source": [
    "svm_model = SVC()\n",
    "svm_model.fit(x_train, y_train)\n",
    "print(\"Support Vector Machine : {:.2f}\".format(svm_model.score(x_test,y_test)*100))"
   ]
  },
  {
   "cell_type": "code",
   "execution_count": 113,
   "metadata": {},
   "outputs": [
    {
     "name": "stdout",
     "output_type": "stream",
     "text": [
      "Neural Network Accuracy: 91.80%\n"
     ]
    }
   ],
   "source": [
    "nn_model = MLPClassifier()\n",
    "nn_model.fit(x_train, y_train)\n",
    "\n",
    "print(\"Neural Network Accuracy: {:.2f}%\".format(nn_model.score(x_test, y_test) * 100))"
   ]
  },
  {
   "cell_type": "markdown",
   "metadata": {},
   "source": [
    "### Neural Network gives you the best prediction value "
   ]
  },
  {
   "cell_type": "code",
   "execution_count": null,
   "metadata": {},
   "outputs": [],
   "source": []
  }
 ],
 "metadata": {
  "kernelspec": {
   "display_name": "Python 3",
   "language": "python",
   "name": "python3"
  },
  "language_info": {
   "codemirror_mode": {
    "name": "ipython",
    "version": 3
   },
   "file_extension": ".py",
   "mimetype": "text/x-python",
   "name": "python",
   "nbconvert_exporter": "python",
   "pygments_lexer": "ipython3",
   "version": "3.8.5"
  }
 },
 "nbformat": 4,
 "nbformat_minor": 4
}
